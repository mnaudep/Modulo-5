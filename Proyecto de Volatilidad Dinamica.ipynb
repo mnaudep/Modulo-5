{
 "cells": [
  {
   "cell_type": "code",
   "execution_count": 1,
   "metadata": {},
   "outputs": [],
   "source": [
    "import numpy as np\n",
    "import pandas as pd\n",
    "import matplotlib.pyplot as plt\n",
    "import seaborn as sns\n",
    "from numpy.random import randn, seed\n",
    "from scipy.optimize import minimize"
   ]
  },
  {
   "cell_type": "markdown",
   "metadata": {},
   "source": [
    "Importamos datos y nos quedamos solo con MEXBOL"
   ]
  },
  {
   "cell_type": "code",
   "execution_count": 2,
   "metadata": {},
   "outputs": [],
   "source": [
    "Precios=pd.read_excel(\"Prueba.xlsx\",index_col=0)"
   ]
  },
  {
   "cell_type": "code",
   "execution_count": 6,
   "metadata": {},
   "outputs": [],
   "source": [
    "R = Precios[[\"MEXBOL INDEX\"]]\n",
    "R = np.log(R).diff().dropna()"
   ]
  },
  {
   "cell_type": "markdown",
   "metadata": {},
   "source": [
    "Definimos la sigma que queremos encontrar"
   ]
  },
  {
   "cell_type": "markdown",
   "metadata": {},
   "source": [
    "$$\n",
    "    \\sigma_t^2 = (1 - \\lambda) r^2_{t-1} + \\lambda \\sigma_{t-1}^2\n",
    "$$"
   ]
  },
  {
   "cell_type": "markdown",
   "metadata": {},
   "source": [
    "Definimos la clase para Volatilidad Dinamica"
   ]
  },
  {
   "cell_type": "code",
   "execution_count": 82,
   "metadata": {},
   "outputs": [],
   "source": [
    "class VolDimSigmas:\n",
    "    \"\"\"\n",
    "    Clase para estimar sigmas para el modelo de Volatilidad Dinamica\n",
    "    \"\"\"\n",
    "    def __init__(self, Lambda, sigma_init, R):\n",
    "        self.Lambda = Lambda\n",
    "        self.R = R\n",
    "        self.sigma_hist = [sigma_init]\n",
    "        self.initialize_sigmas()\n",
    "        \n",
    "    def get_sigma1(self, t):\n",
    "        \"\"\"\n",
    "        Calcula sigma_t dado datos en t - 1\n",
    "        \"\"\"\n",
    "        rt0 = 0 if t == 0 else self.R.iloc[t - 1, 0]\n",
    "        sigma0 = self.sigma_hist[-1]\n",
    "        sigma1 = (1-self.Lambda)* rt0 ** 2 + self.Lambda * sigma0\n",
    "        self.sigma_hist.append(sigma1)\n",
    "    \n",
    "    def initialize_sigmas(self):\n",
    "        N, M = self.R.shape\n",
    "        for t in range(N - 1, -1, -1):\n",
    "            self.get_sigma1(t)"
   ]
  },
  {
   "cell_type": "markdown",
   "metadata": {},
   "source": [
    "Definimos la funcion LVolDim que nos regresa la log-verosimilitud de la volatilidad dinamica"
   ]
  },
  {
   "cell_type": "code",
   "execution_count": 83,
   "metadata": {},
   "outputs": [],
   "source": [
    "def LVolDim(Lambda, sigma_init, R):\n",
    "    s = VolDimSigmas(Lambda, sigma_init, R)\n",
    "    sigma_hist = np.array(s.sigma_hist[1:]).ravel()\n",
    "    r1_2 = R.values.ravel() ** 2\n",
    "    log_likelihood = (np.log(sigma_hist) + r1_2 / sigma_hist).sum() / 2\n",
    "    return log_likelihood"
   ]
  },
  {
   "cell_type": "code",
   "execution_count": 85,
   "metadata": {},
   "outputs": [
    {
     "data": {
      "text/plain": [
       "-1333.747975676454"
      ]
     },
     "execution_count": 85,
     "metadata": {},
     "output_type": "execute_result"
    }
   ],
   "source": [
    "seed(314)\n",
    "Lambda = np.abs(randn(1))\n",
    "sigma_init = R.var(ddof=1).item() / 252\n",
    "LVolDim(Lambda, sigma_init, R)"
   ]
  },
  {
   "cell_type": "code",
   "execution_count": 67,
   "metadata": {},
   "outputs": [],
   "source": [
    "# Configuración del modelo\n",
    "x0 = np.array([Lambda])\n",
    "L_part = lambda x0: LGarch(*x0, sigma_init, R)\n",
    "\n",
    "# restricción de no negativos\n",
    "bounds = [\n",
    "    (0, 1)\n",
    "]"
   ]
  },
  {
   "cell_type": "code",
   "execution_count": 68,
   "metadata": {},
   "outputs": [],
   "source": [
    "fmin = minimize(L_part, x0,\n",
    "         bounds=bounds)"
   ]
  },
  {
   "cell_type": "code",
   "execution_count": 69,
   "metadata": {},
   "outputs": [
    {
     "data": {
      "text/plain": [
       "      fun: -4355.8260787813315\n",
       " hess_inv: <1x1 LbfgsInvHessProduct with dtype=float64>\n",
       "      jac: array([-0.00045475])\n",
       "  message: b'CONVERGENCE: REL_REDUCTION_OF_F_<=_FACTR*EPSMCH'\n",
       "     nfev: 22\n",
       "      nit: 8\n",
       "   status: 0\n",
       "  success: True\n",
       "        x: array([0.9088626])"
      ]
     },
     "execution_count": 69,
     "metadata": {},
     "output_type": "execute_result"
    }
   ],
   "source": [
    "fmin"
   ]
  },
  {
   "cell_type": "code",
   "execution_count": 72,
   "metadata": {},
   "outputs": [
    {
     "data": {
      "text/plain": [
       "array([0.9088626])"
      ]
     },
     "execution_count": 72,
     "metadata": {},
     "output_type": "execute_result"
    }
   ],
   "source": [
    "Lambda_VD=fmin.x\n",
    "Lambda_VD"
   ]
  },
  {
   "cell_type": "code",
   "execution_count": 77,
   "metadata": {},
   "outputs": [],
   "source": [
    "# Volatilidades sigma2\n",
    "sigma0 = sigma_init\n",
    "garch_predict = []\n",
    "for i in range(len(R)):\n",
    "    sigma0 = float((1-Lambda_VD)* R.iloc[i].item() ** 2 + Lambda_VD* sigma0)\n",
    "    garch_predict.append(sigma0)"
   ]
  },
  {
   "cell_type": "code",
   "execution_count": 80,
   "metadata": {},
   "outputs": [
    {
     "name": "stderr",
     "output_type": "stream",
     "text": [
      "C:\\Users\\mariana.naude\\AppData\\Local\\Continuum\\anaconda3\\lib\\site-packages\\pandas\\plotting\\_converter.py:129: FutureWarning: Using an implicitly registered datetime converter for a matplotlib plotting method. The converter was registered by pandas on import. Future versions of pandas will require you to explicitly register matplotlib converters.\n",
      "\n",
      "To register the converters:\n",
      "\t>>> from pandas.plotting import register_matplotlib_converters\n",
      "\t>>> register_matplotlib_converters()\n",
      "  warnings.warn(msg, FutureWarning)\n"
     ]
    },
    {
     "data": {
      "image/png": "[encoded data removed]",
      "text/plain": [
       "<Figure size 864x288 with 1 Axes>"
      ]
     },
     "metadata": {
      "needs_background": "light"
     },
     "output_type": "display_data"
    }
   ],
   "source": [
    "xaxis = R.index[1:]\n",
    "sigma_garch = pd.Series(np.sqrt(garch_predict)[1:])\n",
    "\n",
    "plt.subplots(figsize=(12, 4))\n",
    "plt.title(\"Volatilidad Dinamica\")\n",
    "plt.grid()\n",
    "plt.plot(xaxis, sigma_garch.ewm(2).mean());"
   ]
  },
  {
   "cell_type": "code",
   "execution_count": null,
   "metadata": {},
   "outputs": [],
   "source": []
  }
 ],
 "metadata": {
  "kernelspec": {
   "display_name": "Python 3",
   "language": "python",
   "name": "python3"
  },
  "language_info": {
   "codemirror_mode": {
    "name": "ipython",
    "version": 3
   },
   "file_extension": ".py",
   "mimetype": "text/x-python",
   "name": "python",
   "nbconvert_exporter": "python",
   "pygments_lexer": "ipython3",
   "version": "3.7.3"
  }
 },
 "nbformat": 4,
 "nbformat_minor": 2
}
