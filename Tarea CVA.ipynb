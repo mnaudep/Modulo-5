{
 "cells": [
  {
   "cell_type": "markdown",
   "metadata": {},
   "source": [
    "## Tarea CVA"
   ]
  },
  {
   "cell_type": "code",
   "execution_count": 1,
   "metadata": {},
   "outputs": [],
   "source": [
    "import numpy as np\n",
    "from datetime import timedelta, datetime\n",
    "import calendar\n",
    "from scipy.optimize import minimize\n",
    "import matplotlib.pyplot as plt"
   ]
  },
  {
   "cell_type": "markdown",
   "metadata": {},
   "source": [
    "Replica de la funcion Days360 que utiliza excel (Referencia de https://www.reddit.com/r/learnpython/comments/3942zm/python_implementation_of_excels_days360_function/)"
   ]
  },
  {
   "cell_type": "code",
   "execution_count": 52,
   "metadata": {},
   "outputs": [],
   "source": [
    "def days360(start_date, end_date, method_eu=False):\n",
    "    \n",
    "    start_day = start_date.day\n",
    "    start_month = start_date.month\n",
    "    start_year = start_date.year\n",
    "    end_day = end_date.day\n",
    "    end_month = end_date.month\n",
    "    end_year = end_date.year\n",
    "\n",
    "    if (\n",
    "        start_day == 31 or\n",
    "        (\n",
    "            method_eu is False and\n",
    "            start_month == 2 and (\n",
    "                start_day == 29 or (\n",
    "                    start_day == 28 and\n",
    "                    calendar.isleap(start_year) is False\n",
    "                )\n",
    "            )\n",
    "        )\n",
    "    ):\n",
    "        start_day = 30\n",
    "\n",
    "    if end_day == 31:\n",
    "        if method_eu is False and start_day != 30:\n",
    "            end_day = 1\n",
    "\n",
    "            if end_month == 12:\n",
    "                end_year += 1\n",
    "                end_month = 1\n",
    "            else:\n",
    "                end_month += 1\n",
    "        else:\n",
    "            end_day = 30\n",
    "\n",
    "    return (\n",
    "        end_day + end_month * 30 + end_year * 360 -\n",
    "        start_day - start_month * 30 - start_year * 360\n",
    "    )"
   ]
  },
  {
   "cell_type": "code",
   "execution_count": 331,
   "metadata": {},
   "outputs": [
    {
     "data": {
      "text/plain": [
       "4"
      ]
     },
     "execution_count": 331,
     "metadata": {},
     "output_type": "execute_result"
    }
   ],
   "source": [
    "2+2"
   ]
  },
  {
   "cell_type": "markdown",
   "metadata": {},
   "source": [
    "Definimos la funcion de PrecioSucio, que calcula el precio Sucio de un bono dada la fecha de valuacion, fecha de vencimiento, el nocional, ytm, tasa cupon, periodo (semestral por default), h y R (el riesgo de incumplimiento, el default es no tener riesgo)"
   ]
  },
  {
   "cell_type": "code",
   "execution_count": 94,
   "metadata": {},
   "outputs": [],
   "source": [
    "def PrecioSucio(fecha_valuacion, fecha_vencimiento, nocional, ytm, tasa_cupon, periodo_cupon = 2, h=0,R=1):\n",
    "    \n",
    "    cupon=tasa_cupon*nocional/periodo_cupon\n",
    "    ytm_periodo=ytm/periodo_cupon\n",
    "    \n",
    "    dias_val_venc=days360(fecha_valuacion,fecha_vencimiento)\n",
    "    periodo_frac=(dias_val_venc%(360/periodo_cupon))/(360/periodo_cupon)\n",
    "    periodos_comp=dias_val_venc//(360/periodo_cupon)\n",
    "    \n",
    "    V_int = 1 / (1 + ytm_periodo) ** (np.arange(periodos_comp + 1) + periodo_frac)\n",
    "    V_risk = (1-h) ** np.arange(periodos_comp + 2)\n",
    "    V_tot = V_risk[1:] * V_int\n",
    "    V_dif = V_risk[:-1] * V_int\n",
    "    \n",
    "    Precio_Sucio = sum(cupon*V_tot)+(sum(V_dif)* h*R+V_tot[-1])*nocional\n",
    "    \n",
    "    return Precio_Sucio"
   ]
  },
  {
   "cell_type": "markdown",
   "metadata": {},
   "source": [
    "Probamos nuestra funcion con el ejercicio en clase del bono de PEMEX"
   ]
  },
  {
   "cell_type": "code",
   "execution_count": 95,
   "metadata": {},
   "outputs": [
    {
     "data": {
      "text/plain": [
       "89.88404657685007"
      ]
     },
     "execution_count": 95,
     "metadata": {},
     "output_type": "execute_result"
    }
   ],
   "source": [
    "prueba_PEMEX=PrecioSucio(datetime(2020,4,8),datetime(2027,3,13),100,.0855079,.065)\n",
    "prueba_PEMEX"
   ]
  },
  {
   "cell_type": "markdown",
   "metadata": {},
   "source": [
    "Definimos la funcion proba_incumplimiento la cual regresa el precio sucio y la h que tenemos que asumir para mitigar el riesgo"
   ]
  },
  {
   "cell_type": "code",
   "execution_count": 202,
   "metadata": {},
   "outputs": [],
   "source": [
    "def proba_incumplimiento(fecha_valuacion, fecha_vencimiento, nocional, ytm, tasa_cupon, periodo_cupon = 2, h=0,R = 0.25, InterBank = 0.0067):\n",
    "    \n",
    "    h0=0\n",
    "    constraints = [\n",
    "     {\"type\": \"eq\", \"fun\": lambda h: PrecioSucio(fecha_valuacion,fecha_vencimiento,nocional,ytm,tasa_cupon) - PrecioSucio(fecha_valuacion,fecha_vencimiento,nocional,InterBank,tasa_cupon,h=h,R=R)}]\n",
    "\n",
    "    Precio_Sucio = PrecioSucio(fecha_valuacion,fecha_vencimiento,nocional,ytm,tasa_cupon)\n",
    "    min_h = minimize(lambda h: (PrecioSucio(fecha_valuacion,fecha_vencimiento,nocional,ytm,tasa_cupon) - \n",
    "                           PrecioSucio(fecha_valuacion,fecha_vencimiento,nocional,InterBank,tasa_cupon,h=h,R=R)),\n",
    "                           h0, constraints = constraints)\n",
    "    return {\"Precio_Sucio\":Precio_Sucio, \"h\":min_h.x}"
   ]
  },
  {
   "cell_type": "markdown",
   "metadata": {},
   "source": [
    "Probamos nuestra funcion con el ejercicio en clase del bono de PEMEX"
   ]
  },
  {
   "cell_type": "code",
   "execution_count": 213,
   "metadata": {},
   "outputs": [
    {
     "data": {
      "text/plain": [
       "{'Precio_Sucio': 89.88404657685007, 'h': array([0.05022308])}"
      ]
     },
     "execution_count": 213,
     "metadata": {},
     "output_type": "execute_result"
    }
   ],
   "source": [
    "prueba_PEMEX2 = proba_incumplimiento(datetime(2020,4,8),datetime(2027,3,13),100,.0855079,.065)\n",
    "prueba_PEMEX2"
   ]
  },
  {
   "cell_type": "markdown",
   "metadata": {},
   "source": [
    "Definimos la funcion CVA para que dado el precio y tasa en Moneda Extranjera(USD), nocional, plazo y puntos del fwd\n",
    ",volumen, IIE,y la h definida por porba_incumplimiento, nos regrese el monto de CVA para nuestras\n",
    "dos variantes EPE y PFE. Asi como el precio fwd, y los precios regargados (precio recargado EPE=precio recargado PFE)"
   ]
  },
  {
   "cell_type": "code",
   "execution_count": 362,
   "metadata": {},
   "outputs": [],
   "source": [
    "def CVA(proba_incumplimiento, precio_ME, tasa_ME, nocional_fwd, plazo_fwd, pts_fwd, vol, TIIE, amplitud = 1, n_sim= 10000,plazo=91):\n",
    "        \n",
    "    precio_fwd= precio_ME+pts_fwd/10000\n",
    "    tasa_ML=(precio_fwd/precio_ME*(1 + tasa_ME*plazo/360)- 1)*(360/plazo)\n",
    "    sim= (np.ones(n_sim) * precio_ME)[:,np.newaxis]\n",
    "    spread_tasas= tasa_ML-tasa_ME\n",
    "    periodos= np.arange(start = 0, stop = plazo, step = amplitud)\n",
    "\n",
    "    for periodo in periodos:\n",
    "        sim= np.c_[sim,(\n",
    "                     sim[:,-1] * \n",
    "                     np.exp((spread_tasas- 0.5*vol**2)*(amplitud/360) + \n",
    "                            (vol*(amplitud/360)**.5) * \n",
    "                            np.random.normal(size=n_sim))\n",
    "                     )]\n",
    "\n",
    "    MtM = nocional_fwd*(sim[:,:-1]*np.exp(spread_tasas*(plazo-periodos)/360)-precio_fwd)*np.exp(-tasa_ML*(plazo-periodos)/360)\n",
    "    EPE = np.apply_along_axis(lambda x: x[x>=0].mean(), 0, MtM)\n",
    "    PFE = np.apply_along_axis(lambda x: x[x>=0][x[x>=0]>=np.percentile(x[x>=0],.95)].mean(), 0, MtM)\n",
    "    V_int = 1 / ((1 + TIIE * plazo_fwd/360)**((np.arange(len(EPE))+1)/plazo_fwd))\n",
    "    V_risk = (1-(1-h)**((periodos+1)/180))-(1-(1-h)**(periodos/180))\n",
    "    CVA_EPE = sum(EPE*V_int*V_risk)\n",
    "    CVA_PFE = sum(PFE*V_int*V_risk)\n",
    "    constraints = [    \n",
    "    {\"type\": \"eq\", \"fun\": lambda precio_CVA: nocional_fwd*(precio_CVA-precio_fwd)*np.exp(-tasa_ML*plazo/360)-CVA_EPE}]\n",
    "    \n",
    "    opt  = minimize(lambda precio_CVA: nocional_fwd * (precio_CVA-precio_fwd)*np.exp(-tasa_ML*plazo/360)-CVA_EPE,\n",
    "                               precio_fwd, constraints = constraints)\n",
    "\n",
    "    precio_CVA_EPE = opt.x[0]\n",
    "    \n",
    "    constraints = [\n",
    "    {\"type\": \"eq\", \"fun\": lambda precio_CVA: nocional_fwd*(precio_CVA-precio_fwd)*np.exp(-tasa_ML*plazo/360)-CVA_EPE}]\n",
    "\n",
    "    opt  = minimize(lambda precio_CVA: nocional_fwd*(precio_CVA-precio_fwd)*np.exp(-tasa_ML * plazo/360)-CVA_PFE,\n",
    "                               precio_fwd, constraints = constraints)\n",
    "\n",
    "    precio_CVA_PFE = opt.x[0]\n",
    "    \n",
    "    return ({\"CVA\":{\"EPE\":f\"${CVA_EPE}\",\n",
    "                    \"PFE\":f\"${CVA_PFE}\"},\n",
    "                \"Precios\":\n",
    "                        {\"PrecioFwd\":f\"${precio_fwd}\",\n",
    "                         \"PrecioRecargado_EPE\":f\"${precio_CVA_EPE}\", \n",
    "                         \"PrecioRecargado_PFE\":f\"${precio_CVA_PFE}\"}})"
   ]
  },
  {
   "cell_type": "code",
   "execution_count": 365,
   "metadata": {},
   "outputs": [],
   "source": [
    "h = prueba_PEMEX2[\"h\"]"
   ]
  },
  {
   "cell_type": "code",
   "execution_count": 366,
   "metadata": {},
   "outputs": [
    {
     "data": {
      "text/plain": [
       "{'CVA': {'EPE': '$285818.68483738636', 'PFE': '$288573.3989102821'},\n",
       " 'Precios': {'PrecioFwd': '$21.1818',\n",
       "  'PrecioRecargado_EPE': '$21.211013196683517',\n",
       "  'PrecioRecargado_PFE': '$21.21101319668028'}}"
      ]
     },
     "execution_count": 366,
     "metadata": {},
     "output_type": "execute_result"
    }
   ],
   "source": [
    "CVA_PEMEX=CVA(h,20.77,.007841,10000000,90,4118,.2,.0713,)\n",
    "CVA_PEMEX"
   ]
  }
 ],
 "metadata": {
  "kernelspec": {
   "display_name": "Python 3",
   "language": "python",
   "name": "python3"
  },
  "language_info": {
   "codemirror_mode": {
    "name": "ipython",
    "version": 3
   },
   "file_extension": ".py",
   "mimetype": "text/x-python",
   "name": "python",
   "nbconvert_exporter": "python",
   "pygments_lexer": "ipython3",
   "version": "3.7.3"
  }
 },
 "nbformat": 4,
 "nbformat_minor": 4
}
